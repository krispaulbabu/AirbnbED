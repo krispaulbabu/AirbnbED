{
 "cells": [
  {
   "cell_type": "markdown",
   "metadata": {},
   "source": [
    "# Airbnb Open Data\n",
    "The following notebook contains a thorough preparation, cleansing and analysis of Airbnb data from Kaggle. Through this notebook I aim to answer the following questions: \n",
    "\n",
    "* What features do customers look for in Airbnbs? \n",
    "* What locations attract more customers and why ? \n",
    "* How do descriptions and ratings affect the traffic ? "
   ]
  },
  {
   "cell_type": "markdown",
   "metadata": {},
   "source": [
    "# Data Provenance\n",
    "\n",
    "This data was uploaded to Kaggle by user **Azmoudeh** and can be accessed by [this link](https://www.kaggle.com/datasets/arianazmoudeh/airbnbopendata?resource=download). This data in turn was collected from the website [insideairbnb.com](http://insideairbnb.com/about/), a project that aims to raise awareness about the impact of AirBnBs on residential communities. \n",
    "\n",
    "## Data Description\n",
    "| id                               | integer  | Airbnb's unique identifier for   the listing                                                                                                                                                                                                                                                                                                                                                                                                                                                                                                                                                                                                                                                                                                                                                                                                                                                                                                                                                                                                                                                                                                                                                                                                                                                                                                  |\n",
    "|----------------------------------|----------|-----------------------------------------------------------------------------------------------------------------------------------------------------------------------------------------------------------------------------------------------------------------------------------------------------------------------------------------------------------------------------------------------------------------------------------------------------------------------------------------------------------------------------------------------------------------------------------------------------------------------------------------------------------------------------------------------------------------------------------------------------------------------------------------------------------------------------------------------------------------------------------------------------------------------------------------------------------------------------------------------------------------------------------------------------------------------------------------------------------------------------------------------------------------------------------------------------------------------------------------------------------------------------------------------------------------------------------------------|\n",
    "| NAME                             | text     | Name of the listing                                                                                                                                                                                                                                                                                                                                                                                                                                                                                                                                                                                                                                                                                                                                                                                                                                                                                                                                                                                                                                                                                                                                                                                                                                                                                                                           |\n",
    "| host id                          | integer  | Airbnb's   unique identifier for the host/user                                                                                                                                                                                                                                                                                                                                                                                                                                                                                                                                                                                                                                                                                                                                                                                                                                                                                                                                                                                                                                                                                                                                                                                                                                                                                                |\n",
    "| host_identity_verified           | boolean  | t=true; f=false                                                                                                                                                                                                                                                                                                                                                                                                                                                                                                                                                                                                                                                                                                                                                                                                                                                                                                                                                                                                                                                                                                                                                                                                                                                                                                                               |\n",
    "| host   name                      | text     | Name of   the host. Usually just the first name(s).                                                                                                                                                                                                                                                                                                                                                                                                                                                                                                                                                                                                                                                                                                                                                                                                                                                                                                                                                                                                                                                                                                                                                                                                                                                                                           |\n",
    "| neighbourhood group              | text     | The neighbourhood group as   geocoded using the latitude and longitude against neighborhoods as defined by   open or public digital shapefiles.                                                                                                                                                                                                                                                                                                                                                                                                                                                                                                                                                                                                                                                                                                                                                                                                                                                                                                                                                                                                                                                                                                                                                                                               |\n",
    "| neighbourhood                    | text     |                                                                                                                                                                                                                                                                                                                                                                                                                                                                                                                                                                                                                                                                                                                                                                                                                                                                                                                                                                                                                                                                                                                                                                                                                                                                                                                                               |\n",
    "| lat                              | numeric  | Uses the World Geodetic System   (WGS84) projection for latitude and longitude.                                                                                                                                                                                                                                                                                                                                                                                                                                                                                                                                                                                                                                                                                                                                                                                                                                                                                                                                                                                                                                                                                                                                                                                                                                                               |\n",
    "| long                             | numeric  | Uses   the World Geodetic System (WGS84) projection for latitude and longitude.                                                                                                                                                                                                                                                                                                                                                                                                                                                                                                                                                                                                                                                                                                                                                                                                                                                                                                                                                                                                                                                                                                                                                                                                                                                               |\n",
    "| country                          | text     | Country that the airbnb is   listed in                                                                                                                                                                                                                                                                                                                                                                                                                                                                                                                                                                                                                                                                                                                                                                                                                                                                                                                                                                                                                                                                                                                                                                                                                                                                                                        |\n",
    "| country   code                   | text     | Shorthand   for country that airbnb is listed in                                                                                                                                                                                                                                                                                                                                                                                                                                                                                                                                                                                                                                                                                                                                                                                                                                                                                                                                                                                                                                                                                                                                                                                                                                                                                              |\n",
    "| instant_bookable                 | boolean  | [t=true; f=false]. Whether the   guest can automatically book the listing without the host requiring to accept   their booking request. An indicator of a commercial listing.                                                                                                                                                                                                                                                                                                                                                                                                                                                                                                                                                                                                                                                                                                                                                                                                                                                                                                                                                                                                                                                                                                                                                                 |\n",
    "| cancellation_policy              | text     | Degree   of strictness of the cancellation policy. Policies are either strict,   moderate or flexible                                                                                                                                                                                                                                                                                                                                                                                                                                                                                                                                                                                                                                                                                                                                                                                                                                                                                                                                                                                                                                                                                                                                                                                                                                         |\n",
    "| room type                        | text     | [Entire home/apt\\|Private   room\\|Shared room\\|Hotel]            All homes are grouped into the following three room types:            Entire place      Private room      Shared room      Entire place      Entire places are best if you're seeking a home away from home. With an   entire place, you'll have the whole space to yourself. This usually includes   a bedroom, a bathroom, a kitchen, and a separate, dedicated entrance. Hosts   should note in the description if they'll be on the property or not (ex:   \"Host occupies first floor of the home\"), and provide further   details on the listing.            Private rooms      Private rooms are great for when you prefer a little privacy, and still   value a local connection. When you book a private room, you'll have your own   private room for sleeping and may share some spaces with others. You might   need to walk through indoor spaces that another host or guest may occupy to   get to your room.            Shared rooms      Shared rooms are for when you don't mind sharing a space with others. When   you book a shared room, you'll be sleeping in a space that is shared with   others and share the entire space with other people. Shared rooms are popular   among flexible travelers looking for new friends and budget-friendly stays. |\n",
    "| Construction   year              | integer  | Year of   construction of the property                                                                                                                                                                                                                                                                                                                                                                                                                                                                                                                                                                                                                                                                                                                                                                                                                                                                                                                                                                                                                                                                                                                                                                                                                                                                                                        |\n",
    "| price                            | currency | daily price in local currency                                                                                                                                                                                                                                                                                                                                                                                                                                                                                                                                                                                                                                                                                                                                                                                                                                                                                                                                                                                                                                                                                                                                                                                                                                                                                                                 |\n",
    "| service   fee                    | integer  | Services   charger that may be incurred (in $)                                                                                                                                                                                                                                                                                                                                                                                                                                                                                                                                                                                                                                                                                                                                                                                                                                                                                                                                                                                                                                                                                                                                                                                                                                                                                                |\n",
    "| minimum nights                   | integer  | minimum number of night stay for   the listing (calendar rules may be different)                                                                                                                                                                                                                                                                                                                                                                                                                                                                                                                                                                                                                                                                                                                                                                                                                                                                                                                                                                                                                                                                                                                                                                                                                                                              |\n",
    "| number   of reviews              | integer  | The   number of reviews the listing has                                                                                                                                                                                                                                                                                                                                                                                                                                                                                                                                                                                                                                                                                                                                                                                                                                                                                                                                                                                                                                                                                                                                                                                                                                                                                                       |\n",
    "| last review                      | date     | The date of the last/newest   review                                                                                                                                                                                                                                                                                                                                                                                                                                                                                                                                                                                                                                                                                                                                                                                                                                                                                                                                                                                                                                                                                                                                                                                                                                                                                                          |\n",
    "| reviews   per month              | integer  | Number   of reviews in a month                                                                                                                                                                                                                                                                                                                                                                                                                                                                                                                                                                                                                                                                                                                                                                                                                                                                                                                                                                                                                                                                                                                                                                                                                                                                                                                |\n",
    "| review rate number               | integer  | Number of reviews for a certain   listing                                                                                                                                                                                                                                                                                                                                                                                                                                                                                                                                                                                                                                                                                                                                                                                                                                                                                                                                                                                                                                                                                                                                                                                                                                                                                                     |\n",
    "| calculated   host listings count | integer  | Number   of listings a particular host has                                                                                                                                                                                                                                                                                                                                                                                                                                                                                                                                                                                                                                                                                                                                                                                                                                                                                                                                                                                                                                                                                                                                                                                                                                                                                                    |\n",
    "| availability 365                 | integer  | Number of days available a   year                                                                                                                                                                                                                                                                                                                                                                                                                                                                                                                                                                                                                                                                                                                                                                                                                                                                                                                                                                                                                                                                                                                                                                                                                                                                                                             |\n",
    "| house_rules                      | text     | House   rules set by the host                                                                                                                                                                                                                                                                                                                                                                                                                                                                                                                                                                                                                                                                                                                                                                                                                                                                                                                                                                                                                                                                                                                                                                                                                                                                                                                 |\n",
    "| license                          | text     | The licence/permit/registration   number                                                                                                                                                                                                                                                                                                                                                                                                                                                                                                                                                                                                                                                                                                                                                                                                                                                                                                                                                                                                                                                                                                                                                                                                                                                                                                      |"
   ]
  },
  {
   "cell_type": "markdown",
   "metadata": {},
   "source": [
    "# Imports \n",
    "Below is a list of imports required to run this notebook. "
   ]
  },
  {
   "cell_type": "code",
   "execution_count": 2,
   "metadata": {},
   "outputs": [],
   "source": [
    "import pandas as pd\n",
    "import seaborn as sns \n",
    "import matplotlib as plt"
   ]
  },
  {
   "cell_type": "markdown",
   "metadata": {},
   "source": [
    "# Cleaning / Importing the data"
   ]
  },
  {
   "cell_type": "markdown",
   "metadata": {},
   "source": [
    "We will begin by importing the dataset using **pandas**. "
   ]
  },
  {
   "cell_type": "code",
   "execution_count": 3,
   "metadata": {},
   "outputs": [],
   "source": [
    "df=pd.read_csv(\"Airbnb_Open_Data.csv\",dtype=object)"
   ]
  },
  {
   "cell_type": "markdown",
   "metadata": {},
   "source": [
    "In order to make sure we don't come across any unverified listings, I will be limiting the data for further use to only limited ones. "
   ]
  },
  {
   "cell_type": "code",
   "execution_count": 4,
   "metadata": {},
   "outputs": [],
   "source": [
    "df=df[df[\"host_identity_verified\"]==\"verified\"]"
   ]
  },
  {
   "cell_type": "code",
   "execution_count": 5,
   "metadata": {},
   "outputs": [],
   "source": [
    "df[\"price\"] = df[\"price\"].replace('[\\$,]', '', regex=True).astype(float)\n",
    "df.rename(columns={\"price\":\"Price (in $)\"}, inplace=True)"
   ]
  },
  {
   "cell_type": "code",
   "execution_count": 6,
   "metadata": {},
   "outputs": [
    {
     "data": {
      "text/plain": [
       "array([nan, '41662/AL'], dtype=object)"
      ]
     },
     "execution_count": 6,
     "metadata": {},
     "output_type": "execute_result"
    }
   ],
   "source": [
    "df[\"license\"].unique()"
   ]
  },
  {
   "cell_type": "markdown",
   "metadata": {},
   "source": [
    "It looks like the **license** column in the DataFrame is quite useless as most rows have null values for the license column. As such I will be deleting the license column. "
   ]
  },
  {
   "cell_type": "code",
   "execution_count": 7,
   "metadata": {},
   "outputs": [
    {
     "data": {
      "text/plain": [
       "(51110, 25)"
      ]
     },
     "execution_count": 7,
     "metadata": {},
     "output_type": "execute_result"
    }
   ],
   "source": [
    "df=df.drop([\"license\"], axis=1)\n",
    "df.shape"
   ]
  },
  {
   "cell_type": "code",
   "execution_count": 8,
   "metadata": {},
   "outputs": [
    {
     "data": {
      "text/plain": [
       "array(['Manhattan', 'brookln', 'Brooklyn', 'manhatan', nan,\n",
       "       'Staten Island', 'Bronx', 'Queens'], dtype=object)"
      ]
     },
     "execution_count": 8,
     "metadata": {},
     "output_type": "execute_result"
    }
   ],
   "source": [
    "df[\"neighbourhood group\"].unique()"
   ]
  },
  {
   "cell_type": "markdown",
   "metadata": {},
   "source": [
    "Looks like there's a typo in the neighbourhood group column based on the above cell. "
   ]
  },
  {
   "cell_type": "code",
   "execution_count": 9,
   "metadata": {},
   "outputs": [
    {
     "name": "stdout",
     "output_type": "stream",
     "text": [
      "Index([18], dtype='int64')\n",
      "Index([13], dtype='int64')\n"
     ]
    }
   ],
   "source": [
    "print(df[df[\"neighbourhood group\"]==\"manhatan\"].index)\n",
    "print(df[df[\"neighbourhood group\"]==\"brookln\"].index)"
   ]
  },
  {
   "cell_type": "code",
   "execution_count": 10,
   "metadata": {},
   "outputs": [],
   "source": [
    "df.loc[18,\"neighbourhood group\"]=\"Manhattan\"\n",
    "df.loc[13,\"neighbourhood group\"]=\"Brooklyn\""
   ]
  },
  {
   "cell_type": "code",
   "execution_count": 11,
   "metadata": {},
   "outputs": [
    {
     "name": "stdout",
     "output_type": "stream",
     "text": [
      "<class 'pandas.core.frame.DataFrame'>\n",
      "Index: 51110 entries, 1 to 102594\n",
      "Data columns (total 25 columns):\n",
      " #   Column                          Non-Null Count  Dtype  \n",
      "---  ------                          --------------  -----  \n",
      " 0   id                              51110 non-null  object \n",
      " 1   NAME                            50989 non-null  object \n",
      " 2   host id                         51110 non-null  object \n",
      " 3   host_identity_verified          51110 non-null  object \n",
      " 4   host name                       50901 non-null  object \n",
      " 5   neighbourhood group             51099 non-null  object \n",
      " 6   neighbourhood                   51101 non-null  object \n",
      " 7   lat                             51107 non-null  object \n",
      " 8   long                            51107 non-null  object \n",
      " 9   country                         50884 non-null  object \n",
      " 10  country code                    51056 non-null  object \n",
      " 11  instant_bookable                51070 non-null  object \n",
      " 12  cancellation_policy             51084 non-null  object \n",
      " 13  room type                       51110 non-null  object \n",
      " 14  Construction year               51026 non-null  object \n",
      " 15  Price (in $)                    50980 non-null  float64\n",
      " 16  service fee                     50969 non-null  object \n",
      " 17  minimum nights                  50910 non-null  object \n",
      " 18  number of reviews               51012 non-null  object \n",
      " 19  last review                     43193 non-null  object \n",
      " 20  reviews per month               43200 non-null  object \n",
      " 21  review rate number              50969 non-null  object \n",
      " 22  calculated host listings count  50960 non-null  object \n",
      " 23  availability 365                50881 non-null  object \n",
      " 24  house_rules                     25253 non-null  object \n",
      "dtypes: float64(1), object(24)\n",
      "memory usage: 12.2+ MB\n"
     ]
    }
   ],
   "source": [
    "df.info()"
   ]
  },
  {
   "cell_type": "markdown",
   "metadata": {},
   "source": [
    "Based on the above cell, we can assume that most of the columns in the data are full, except for the columns **last review**, **reviews per month** and **house_rules**. However, we can perform sufficient analysis even with the lack of data in these columns, so I will not delete them. "
   ]
  },
  {
   "cell_type": "markdown",
   "metadata": {},
   "source": [
    "# New york AirBnB hotspots\n",
    "\n",
    "### AirBnB heatmap\n",
    "\n",
    "To take a stab at this data, I will first plot a heatmap indicating AirBnB hot-spots all across New York. I will be using **Tableau** for this purpose as, Tableau is an excellent tool for visual analysis. "
   ]
  },
  {
   "cell_type": "markdown",
   "metadata": {},
   "source": [
    "![New York Heatmap](images/NYmap.png)\n",
    "\n",
    "The graph is accessible on [tableau public](https://public.tableau.com/app/profile/kris.paul/viz/AirBnBdata_17057060393650/Geospatialgraph), where you can interact with it."
   ]
  },
  {
   "cell_type": "markdown",
   "metadata": {},
   "source": [
    "### Top 10 neighbourhoods based on AirBnB count"
   ]
  },
  {
   "cell_type": "code",
   "execution_count": 12,
   "metadata": {},
   "outputs": [
    {
     "data": {
      "text/plain": [
       "[Text(0, 0.5, 'Neighbourhood'), Text(0.5, 0, 'AirBnB count')]"
      ]
     },
     "execution_count": 12,
     "metadata": {},
     "output_type": "execute_result"
    },
    {
     "data": {
      "image/png": "[encoded data removed]",
      "text/plain": [
       "<Figure size 640x480 with 1 Axes>"
      ]
     },
     "metadata": {},
     "output_type": "display_data"
    }
   ],
   "source": [
    "nbfreq_dict=df[\"neighbourhood\"].value_counts().to_dict()\n",
    "x=sns.countplot(df[\"neighbourhood\"],order=df[\"neighbourhood\"].value_counts().iloc[:10].index)\n",
    "x.set(ylabel=\"Neighbourhood\", xlabel=\"AirBnB count\")"
   ]
  },
  {
   "cell_type": "code",
   "execution_count": 13,
   "metadata": {},
   "outputs": [
    {
     "data": {
      "text/plain": [
       "[Text(0, 0.5, 'Neighbourhood'), Text(0.5, 0, 'AirBnB count')]"
      ]
     },
     "execution_count": 13,
     "metadata": {},
     "output_type": "execute_result"
    },
    {
     "data": {
      "image/png": "[encoded data removed]",
      "text/plain": [
       "<Figure size 640x480 with 1 Axes>"
      ]
     },
     "metadata": {},
     "output_type": "display_data"
    }
   ],
   "source": [
    "nbfreq_dict=df[\"neighbourhood\"].value_counts().to_dict()\n",
    "x=sns.countplot(df[\"neighbourhood\"],order=df[\"neighbourhood\"].value_counts().iloc[:10].index)\n",
    "x.set(ylabel=\"Neighbourhood\", xlabel=\"AirBnB count\")"
   ]
  },
  {
   "cell_type": "markdown",
   "metadata": {},
   "source": [
    "### Top 10 neighbourhood groups based on AirBnB count"
   ]
  },
  {
   "cell_type": "code",
   "execution_count": 14,
   "metadata": {},
   "outputs": [
    {
     "data": {
      "text/plain": [
       "[Text(0, 0.5, 'Neighbourhood group'), Text(0.5, 0, 'AirBnB count')]"
      ]
     },
     "execution_count": 14,
     "metadata": {},
     "output_type": "execute_result"
    },
    {
     "data": {
      "image/png": "[encoded data removed]",
      "text/plain": [
       "<Figure size 640x480 with 1 Axes>"
      ]
     },
     "metadata": {},
     "output_type": "display_data"
    }
   ],
   "source": [
    "nbfreq_dict=df[\"neighbourhood group\"].value_counts().to_dict()\n",
    "x=sns.countplot(df[\"neighbourhood group\"],order=df[\"neighbourhood group\"].value_counts().iloc[:10].index)\n",
    "x.set(ylabel=\"Neighbourhood group\", xlabel=\"AirBnB count\")"
   ]
  },
  {
   "cell_type": "markdown",
   "metadata": {},
   "source": [
    "# AirBnB Cost"
   ]
  },
  {
   "cell_type": "markdown",
   "metadata": {},
   "source": [
    "As there is a significant variance in the number of AirBnBs across different neighbourhoods, I will only be using neighbourhoods with an AirBnB count greater than 100. This prevents the data from bias towards neighbourhoods with low AirBnB counts. "
   ]
  },
  {
   "cell_type": "code",
   "execution_count": 15,
   "metadata": {},
   "outputs": [],
   "source": [
    "#Makes sure that the prices are not invalid values. Prevents errors while calculating average / median prices etc., \n",
    "price=df.dropna(subset=[\"Price (in $)\"])"
   ]
  },
  {
   "cell_type": "markdown",
   "metadata": {},
   "source": [
    "## Costliest / Cheapest AirBnB neighbourhoods based on **average** price"
   ]
  },
  {
   "cell_type": "markdown",
   "metadata": {},
   "source": [
    "### Cheapest AirBnB neighbourhoods (average)"
   ]
  },
  {
   "cell_type": "code",
   "execution_count": 16,
   "metadata": {},
   "outputs": [
    {
     "data": {
      "text/html": [
       "<div>\n",
       "<style scoped>\n",
       "    .dataframe tbody tr th:only-of-type {\n",
       "        vertical-align: middle;\n",
       "    }\n",
       "\n",
       "    .dataframe tbody tr th {\n",
       "        vertical-align: top;\n",
       "    }\n",
       "\n",
       "    .dataframe thead th {\n",
       "        text-align: right;\n",
       "    }\n",
       "</style>\n",
       "<table border=\"1\" class=\"dataframe\">\n",
       "  <thead>\n",
       "    <tr style=\"text-align: right;\">\n",
       "      <th></th>\n",
       "      <th>neighbourhood</th>\n",
       "      <th>Price (in $)</th>\n",
       "    </tr>\n",
       "  </thead>\n",
       "  <tbody>\n",
       "    <tr>\n",
       "      <th>0</th>\n",
       "      <td>Bay Terrace, Staten Island</td>\n",
       "      <td>59.000000</td>\n",
       "    </tr>\n",
       "    <tr>\n",
       "      <th>1</th>\n",
       "      <td>Lighthouse Hill</td>\n",
       "      <td>127.000000</td>\n",
       "    </tr>\n",
       "    <tr>\n",
       "      <th>2</th>\n",
       "      <td>Breezy Point</td>\n",
       "      <td>232.333333</td>\n",
       "    </tr>\n",
       "    <tr>\n",
       "      <th>3</th>\n",
       "      <td>Castleton Corners</td>\n",
       "      <td>266.428571</td>\n",
       "    </tr>\n",
       "    <tr>\n",
       "      <th>4</th>\n",
       "      <td>Oakwood</td>\n",
       "      <td>287.200000</td>\n",
       "    </tr>\n",
       "    <tr>\n",
       "      <th>5</th>\n",
       "      <td>Rossville</td>\n",
       "      <td>300.666667</td>\n",
       "    </tr>\n",
       "    <tr>\n",
       "      <th>6</th>\n",
       "      <td>Emerson Hill</td>\n",
       "      <td>314.500000</td>\n",
       "    </tr>\n",
       "    <tr>\n",
       "      <th>7</th>\n",
       "      <td>Spuyten Duyvil</td>\n",
       "      <td>316.166667</td>\n",
       "    </tr>\n",
       "    <tr>\n",
       "      <th>8</th>\n",
       "      <td>Prince's Bay</td>\n",
       "      <td>334.333333</td>\n",
       "    </tr>\n",
       "    <tr>\n",
       "      <th>9</th>\n",
       "      <td>South Beach</td>\n",
       "      <td>370.111111</td>\n",
       "    </tr>\n",
       "  </tbody>\n",
       "</table>\n",
       "</div>"
      ],
      "text/plain": [
       "                neighbourhood  Price (in $)\n",
       "0  Bay Terrace, Staten Island     59.000000\n",
       "1             Lighthouse Hill    127.000000\n",
       "2                Breezy Point    232.333333\n",
       "3           Castleton Corners    266.428571\n",
       "4                     Oakwood    287.200000\n",
       "5                   Rossville    300.666667\n",
       "6                Emerson Hill    314.500000\n",
       "7              Spuyten Duyvil    316.166667\n",
       "8                Prince's Bay    334.333333\n",
       "9                 South Beach    370.111111"
      ]
     },
     "execution_count": 16,
     "metadata": {},
     "output_type": "execute_result"
    }
   ],
   "source": [
    "price.groupby(\"neighbourhood\")[\"Price (in $)\"].mean().sort_values().reset_index()[:10]"
   ]
  },
  {
   "cell_type": "markdown",
   "metadata": {},
   "source": [
    "### Costliest AirBnB neighbourhoods (average)"
   ]
  },
  {
   "cell_type": "code",
   "execution_count": 17,
   "metadata": {},
   "outputs": [
    {
     "data": {
      "text/html": [
       "<div>\n",
       "<style scoped>\n",
       "    .dataframe tbody tr th:only-of-type {\n",
       "        vertical-align: middle;\n",
       "    }\n",
       "\n",
       "    .dataframe tbody tr th {\n",
       "        vertical-align: top;\n",
       "    }\n",
       "\n",
       "    .dataframe thead th {\n",
       "        text-align: right;\n",
       "    }\n",
       "</style>\n",
       "<table border=\"1\" class=\"dataframe\">\n",
       "  <thead>\n",
       "    <tr style=\"text-align: right;\">\n",
       "      <th></th>\n",
       "      <th>neighbourhood</th>\n",
       "      <th>Price (in $)</th>\n",
       "    </tr>\n",
       "  </thead>\n",
       "  <tbody>\n",
       "    <tr>\n",
       "      <th>0</th>\n",
       "      <td>New Dorp</td>\n",
       "      <td>1044.000000</td>\n",
       "    </tr>\n",
       "    <tr>\n",
       "      <th>1</th>\n",
       "      <td>Woodrow</td>\n",
       "      <td>1025.000000</td>\n",
       "    </tr>\n",
       "    <tr>\n",
       "      <th>2</th>\n",
       "      <td>Fort Wadsworth</td>\n",
       "      <td>1024.000000</td>\n",
       "    </tr>\n",
       "    <tr>\n",
       "      <th>3</th>\n",
       "      <td>Midland Beach</td>\n",
       "      <td>868.666667</td>\n",
       "    </tr>\n",
       "    <tr>\n",
       "      <th>4</th>\n",
       "      <td>Arden Heights</td>\n",
       "      <td>862.500000</td>\n",
       "    </tr>\n",
       "    <tr>\n",
       "      <th>5</th>\n",
       "      <td>Sea Gate</td>\n",
       "      <td>821.125000</td>\n",
       "    </tr>\n",
       "    <tr>\n",
       "      <th>6</th>\n",
       "      <td>Gerritsen Beach</td>\n",
       "      <td>812.000000</td>\n",
       "    </tr>\n",
       "    <tr>\n",
       "      <th>7</th>\n",
       "      <td>Pelham Bay</td>\n",
       "      <td>783.888889</td>\n",
       "    </tr>\n",
       "    <tr>\n",
       "      <th>8</th>\n",
       "      <td>Coney Island</td>\n",
       "      <td>783.111111</td>\n",
       "    </tr>\n",
       "    <tr>\n",
       "      <th>9</th>\n",
       "      <td>Jamaica Hills</td>\n",
       "      <td>779.363636</td>\n",
       "    </tr>\n",
       "  </tbody>\n",
       "</table>\n",
       "</div>"
      ],
      "text/plain": [
       "     neighbourhood  Price (in $)\n",
       "0         New Dorp   1044.000000\n",
       "1          Woodrow   1025.000000\n",
       "2   Fort Wadsworth   1024.000000\n",
       "3    Midland Beach    868.666667\n",
       "4    Arden Heights    862.500000\n",
       "5         Sea Gate    821.125000\n",
       "6  Gerritsen Beach    812.000000\n",
       "7       Pelham Bay    783.888889\n",
       "8     Coney Island    783.111111\n",
       "9    Jamaica Hills    779.363636"
      ]
     },
     "execution_count": 17,
     "metadata": {},
     "output_type": "execute_result"
    }
   ],
   "source": [
    "price.groupby(\"neighbourhood\")[\"Price (in $)\"].mean().sort_values(ascending=False).reset_index()[:10]"
   ]
  },
  {
   "cell_type": "code",
   "execution_count": 18,
   "metadata": {},
   "outputs": [],
   "source": [
    "file=open(\"output.txt\",\"w+\")\n",
    "file.write(price.groupby(\"neighbourhood\")[\"neighbourhood\"].count().sort_values().to_string())\n",
    "file.close()"
   ]
  },
  {
   "cell_type": "markdown",
   "metadata": {},
   "source": [
    "## Costliest / Cheapest AirBnB neighbourhoods based on **median** price"
   ]
  },
  {
   "cell_type": "markdown",
   "metadata": {},
   "source": [
    "### Cheapest AirBnB neighbourhoods (median)"
   ]
  },
  {
   "cell_type": "code",
   "execution_count": 19,
   "metadata": {},
   "outputs": [
    {
     "data": {
      "text/html": [
       "<div>\n",
       "<style scoped>\n",
       "    .dataframe tbody tr th:only-of-type {\n",
       "        vertical-align: middle;\n",
       "    }\n",
       "\n",
       "    .dataframe tbody tr th {\n",
       "        vertical-align: top;\n",
       "    }\n",
       "\n",
       "    .dataframe thead th {\n",
       "        text-align: right;\n",
       "    }\n",
       "</style>\n",
       "<table border=\"1\" class=\"dataframe\">\n",
       "  <thead>\n",
       "    <tr style=\"text-align: right;\">\n",
       "      <th></th>\n",
       "      <th>neighbourhood</th>\n",
       "      <th>Price (in $)</th>\n",
       "    </tr>\n",
       "  </thead>\n",
       "  <tbody>\n",
       "    <tr>\n",
       "      <th>0</th>\n",
       "      <td>Bay Terrace, Staten Island</td>\n",
       "      <td>59.0</td>\n",
       "    </tr>\n",
       "    <tr>\n",
       "      <th>1</th>\n",
       "      <td>Lighthouse Hill</td>\n",
       "      <td>127.0</td>\n",
       "    </tr>\n",
       "    <tr>\n",
       "      <th>2</th>\n",
       "      <td>Breezy Point</td>\n",
       "      <td>181.0</td>\n",
       "    </tr>\n",
       "    <tr>\n",
       "      <th>3</th>\n",
       "      <td>Rosebank</td>\n",
       "      <td>195.0</td>\n",
       "    </tr>\n",
       "    <tr>\n",
       "      <th>4</th>\n",
       "      <td>Spuyten Duyvil</td>\n",
       "      <td>200.0</td>\n",
       "    </tr>\n",
       "    <tr>\n",
       "      <th>5</th>\n",
       "      <td>Rossville</td>\n",
       "      <td>247.0</td>\n",
       "    </tr>\n",
       "    <tr>\n",
       "      <th>6</th>\n",
       "      <td>Castleton Corners</td>\n",
       "      <td>252.0</td>\n",
       "    </tr>\n",
       "    <tr>\n",
       "      <th>7</th>\n",
       "      <td>Emerson Hill</td>\n",
       "      <td>294.5</td>\n",
       "    </tr>\n",
       "    <tr>\n",
       "      <th>8</th>\n",
       "      <td>Prince's Bay</td>\n",
       "      <td>296.0</td>\n",
       "    </tr>\n",
       "    <tr>\n",
       "      <th>9</th>\n",
       "      <td>Oakwood</td>\n",
       "      <td>301.0</td>\n",
       "    </tr>\n",
       "  </tbody>\n",
       "</table>\n",
       "</div>"
      ],
      "text/plain": [
       "                neighbourhood  Price (in $)\n",
       "0  Bay Terrace, Staten Island          59.0\n",
       "1             Lighthouse Hill         127.0\n",
       "2                Breezy Point         181.0\n",
       "3                    Rosebank         195.0\n",
       "4              Spuyten Duyvil         200.0\n",
       "5                   Rossville         247.0\n",
       "6           Castleton Corners         252.0\n",
       "7                Emerson Hill         294.5\n",
       "8                Prince's Bay         296.0\n",
       "9                     Oakwood         301.0"
      ]
     },
     "execution_count": 19,
     "metadata": {},
     "output_type": "execute_result"
    }
   ],
   "source": [
    "price.groupby(\"neighbourhood\")[\"Price (in $)\"].median().sort_values().reset_index()[:10]"
   ]
  },
  {
   "cell_type": "markdown",
   "metadata": {},
   "source": [
    "### Costliest AirBnB neighbourhoods (median)"
   ]
  },
  {
   "cell_type": "code",
   "execution_count": 20,
   "metadata": {},
   "outputs": [
    {
     "data": {
      "text/html": [
       "<div>\n",
       "<style scoped>\n",
       "    .dataframe tbody tr th:only-of-type {\n",
       "        vertical-align: middle;\n",
       "    }\n",
       "\n",
       "    .dataframe tbody tr th {\n",
       "        vertical-align: top;\n",
       "    }\n",
       "\n",
       "    .dataframe thead th {\n",
       "        text-align: right;\n",
       "    }\n",
       "</style>\n",
       "<table border=\"1\" class=\"dataframe\">\n",
       "  <thead>\n",
       "    <tr style=\"text-align: right;\">\n",
       "      <th></th>\n",
       "      <th>neighbourhood</th>\n",
       "      <th>Price (in $)</th>\n",
       "    </tr>\n",
       "  </thead>\n",
       "  <tbody>\n",
       "    <tr>\n",
       "      <th>0</th>\n",
       "      <td>New Dorp</td>\n",
       "      <td>1044.0</td>\n",
       "    </tr>\n",
       "    <tr>\n",
       "      <th>1</th>\n",
       "      <td>Woodrow</td>\n",
       "      <td>1025.0</td>\n",
       "    </tr>\n",
       "    <tr>\n",
       "      <th>2</th>\n",
       "      <td>Fort Wadsworth</td>\n",
       "      <td>1024.0</td>\n",
       "    </tr>\n",
       "    <tr>\n",
       "      <th>3</th>\n",
       "      <td>Grymes Hill</td>\n",
       "      <td>997.0</td>\n",
       "    </tr>\n",
       "    <tr>\n",
       "      <th>4</th>\n",
       "      <td>Riverdale</td>\n",
       "      <td>980.0</td>\n",
       "    </tr>\n",
       "    <tr>\n",
       "      <th>5</th>\n",
       "      <td>Huguenot</td>\n",
       "      <td>968.0</td>\n",
       "    </tr>\n",
       "    <tr>\n",
       "      <th>6</th>\n",
       "      <td>Midland Beach</td>\n",
       "      <td>957.0</td>\n",
       "    </tr>\n",
       "    <tr>\n",
       "      <th>7</th>\n",
       "      <td>East Morrisania</td>\n",
       "      <td>937.0</td>\n",
       "    </tr>\n",
       "    <tr>\n",
       "      <th>8</th>\n",
       "      <td>Arden Heights</td>\n",
       "      <td>925.0</td>\n",
       "    </tr>\n",
       "    <tr>\n",
       "      <th>9</th>\n",
       "      <td>Coney Island</td>\n",
       "      <td>920.0</td>\n",
       "    </tr>\n",
       "  </tbody>\n",
       "</table>\n",
       "</div>"
      ],
      "text/plain": [
       "     neighbourhood  Price (in $)\n",
       "0         New Dorp        1044.0\n",
       "1          Woodrow        1025.0\n",
       "2   Fort Wadsworth        1024.0\n",
       "3      Grymes Hill         997.0\n",
       "4        Riverdale         980.0\n",
       "5         Huguenot         968.0\n",
       "6    Midland Beach         957.0\n",
       "7  East Morrisania         937.0\n",
       "8    Arden Heights         925.0\n",
       "9     Coney Island         920.0"
      ]
     },
     "execution_count": 20,
     "metadata": {},
     "output_type": "execute_result"
    }
   ],
   "source": [
    "price.groupby(\"neighbourhood\")[\"Price (in $)\"].median().sort_values(ascending=False).reset_index()[:10]"
   ]
  },
  {
   "cell_type": "code",
   "execution_count": 21,
   "metadata": {},
   "outputs": [],
   "source": [
    "nhood_count=price.groupby(\"neighbourhood\")[\"neighbourhood\"].count().reset_index(name=\"count\")"
   ]
  },
  {
   "cell_type": "code",
   "execution_count": 22,
   "metadata": {},
   "outputs": [],
   "source": [
    "high_den=df[df[\"neighbourhood\"].isin(nhood_count[\"neighbourhood\"].to_list())]"
   ]
  },
  {
   "cell_type": "code",
   "execution_count": 23,
   "metadata": {},
   "outputs": [
    {
     "name": "stderr",
     "output_type": "stream",
     "text": [
      "/var/folders/sm/_83zsvsx34qg8lzrr1lqd5_w0000gn/T/ipykernel_13675/801979038.py:1: SettingWithCopyWarning: \n",
      "A value is trying to be set on a copy of a slice from a DataFrame.\n",
      "Try using .loc[row_indexer,col_indexer] = value instead\n",
      "\n",
      "See the caveats in the documentation: https://pandas.pydata.org/pandas-docs/stable/user_guide/indexing.html#returning-a-view-versus-a-copy\n",
      "  high_den[\"review rate number\"]=pd.to_numeric(high_den[\"review rate number\"])\n"
     ]
    }
   ],
   "source": [
    "high_den[\"review rate number\"]=pd.to_numeric(high_den[\"review rate number\"])"
   ]
  }
 ],
 "metadata": {
  "kernelspec": {
   "display_name": "base",
   "language": "python",
   "name": "python3"
  },
  "language_info": {
   "codemirror_mode": {
    "name": "ipython",
    "version": 3
   },
   "file_extension": ".py",
   "mimetype": "text/x-python",
   "name": "python",
   "nbconvert_exporter": "python",
   "pygments_lexer": "ipython3",
   "version": "3.10.12"
  }
 },
 "nbformat": 4,
 "nbformat_minor": 2
}
