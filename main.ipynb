{
 "cells": [
  {
   "cell_type": "markdown",
   "metadata": {},
   "source": [
    "# Airbnb Open Data\n",
    "The following notebook contains a thorough preparation, cleansing and analysis of Airbnb data from Kaggle. Through this notebook I aim to answer the following questions: \n",
    "\n",
    "* What features do customers look for in Airbnbs? \n",
    "* What locations attract more customers and why ? \n",
    "* How do descriptions and ratings affect the traffic ? "
   ]
  },
  {
   "cell_type": "markdown",
   "metadata": {},
   "source": [
    "Below is a list of the imports required to run this notebook"
   ]
  },
  {
   "cell_type": "code",
   "execution_count": 46,
   "metadata": {},
   "outputs": [],
   "source": [
    "import pandas as pd"
   ]
  },
  {
   "cell_type": "code",
   "execution_count": 64,
   "metadata": {},
   "outputs": [],
   "source": [
    "df=pd.read_csv(\"Airbnb_Open_Data.csv\",dtype=object)"
   ]
  },
  {
   "cell_type": "code",
   "execution_count": 53,
   "metadata": {},
   "outputs": [
    {
     "data": {
      "text/plain": [
       "(102599, 25)"
      ]
     },
     "execution_count": 53,
     "metadata": {},
     "output_type": "execute_result"
    }
   ],
   "source": [
    "df=df.drop([\"license\"], axis=1)\n",
    "df.shape"
   ]
  },
  {
   "cell_type": "code",
   "execution_count": 80,
   "metadata": {},
   "outputs": [
    {
     "name": "stdout",
     "output_type": "stream",
     "text": [
      "<class 'pandas.core.frame.DataFrame'>\n",
      "RangeIndex: 102599 entries, 0 to 102598\n",
      "Data columns (total 26 columns):\n",
      " #   Column                          Non-Null Count   Dtype \n",
      "---  ------                          --------------   ----- \n",
      " 0   id                              102599 non-null  object\n",
      " 1   NAME                            102349 non-null  object\n",
      " 2   host id                         102599 non-null  object\n",
      " 3   host_identity_verified          102310 non-null  object\n",
      " 4   host name                       102193 non-null  object\n",
      " 5   neighbourhood group             102570 non-null  object\n",
      " 6   neighbourhood                   102583 non-null  object\n",
      " 7   lat                             102591 non-null  object\n",
      " 8   long                            102591 non-null  object\n",
      " 9   country                         102067 non-null  object\n",
      " 10  country code                    102468 non-null  object\n",
      " 11  instant_bookable                102494 non-null  object\n",
      " 12  cancellation_policy             102523 non-null  object\n",
      " 13  room type                       102599 non-null  object\n",
      " 14  Construction year               102385 non-null  object\n",
      " 15  price                           102352 non-null  object\n",
      " 16  service fee                     102326 non-null  object\n",
      " 17  minimum nights                  102190 non-null  object\n",
      " 18  number of reviews               102416 non-null  object\n",
      " 19  last review                     86706 non-null   object\n",
      " 20  reviews per month               86720 non-null   object\n",
      " 21  review rate number              102273 non-null  object\n",
      " 22  calculated host listings count  102280 non-null  object\n",
      " 23  availability 365                102151 non-null  object\n",
      " 24  house_rules                     50468 non-null   object\n",
      " 25  license                         2 non-null       object\n",
      "dtypes: object(26)\n",
      "memory usage: 20.4+ MB\n"
     ]
    }
   ],
   "source": [
    "df.info()"
   ]
  },
  {
   "cell_type": "code",
   "execution_count": 81,
   "metadata": {},
   "outputs": [
    {
     "data": {
      "text/html": [
       "<div>\n",
       "<style scoped>\n",
       "    .dataframe tbody tr th:only-of-type {\n",
       "        vertical-align: middle;\n",
       "    }\n",
       "\n",
       "    .dataframe tbody tr th {\n",
       "        vertical-align: top;\n",
       "    }\n",
       "\n",
       "    .dataframe thead th {\n",
       "        text-align: right;\n",
       "    }\n",
       "</style>\n",
       "<table border=\"1\" class=\"dataframe\">\n",
       "  <thead>\n",
       "    <tr style=\"text-align: right;\">\n",
       "      <th></th>\n",
       "      <th>id</th>\n",
       "      <th>NAME</th>\n",
       "      <th>host id</th>\n",
       "      <th>host_identity_verified</th>\n",
       "      <th>host name</th>\n",
       "      <th>neighbourhood group</th>\n",
       "      <th>neighbourhood</th>\n",
       "      <th>lat</th>\n",
       "      <th>long</th>\n",
       "      <th>country</th>\n",
       "      <th>...</th>\n",
       "      <th>service fee</th>\n",
       "      <th>minimum nights</th>\n",
       "      <th>number of reviews</th>\n",
       "      <th>last review</th>\n",
       "      <th>reviews per month</th>\n",
       "      <th>review rate number</th>\n",
       "      <th>calculated host listings count</th>\n",
       "      <th>availability 365</th>\n",
       "      <th>house_rules</th>\n",
       "      <th>license</th>\n",
       "    </tr>\n",
       "  </thead>\n",
       "  <tbody>\n",
       "    <tr>\n",
       "      <th>count</th>\n",
       "      <td>102599</td>\n",
       "      <td>102349</td>\n",
       "      <td>102599</td>\n",
       "      <td>102310</td>\n",
       "      <td>102193</td>\n",
       "      <td>102570</td>\n",
       "      <td>102583</td>\n",
       "      <td>102591</td>\n",
       "      <td>102591</td>\n",
       "      <td>102067</td>\n",
       "      <td>...</td>\n",
       "      <td>102326</td>\n",
       "      <td>102190</td>\n",
       "      <td>102416</td>\n",
       "      <td>86706</td>\n",
       "      <td>86720</td>\n",
       "      <td>102273</td>\n",
       "      <td>102280</td>\n",
       "      <td>102151</td>\n",
       "      <td>50468</td>\n",
       "      <td>2</td>\n",
       "    </tr>\n",
       "    <tr>\n",
       "      <th>unique</th>\n",
       "      <td>102058</td>\n",
       "      <td>61281</td>\n",
       "      <td>102057</td>\n",
       "      <td>2</td>\n",
       "      <td>13190</td>\n",
       "      <td>7</td>\n",
       "      <td>224</td>\n",
       "      <td>21991</td>\n",
       "      <td>17774</td>\n",
       "      <td>1</td>\n",
       "      <td>...</td>\n",
       "      <td>231</td>\n",
       "      <td>153</td>\n",
       "      <td>476</td>\n",
       "      <td>2477</td>\n",
       "      <td>1016</td>\n",
       "      <td>5</td>\n",
       "      <td>78</td>\n",
       "      <td>438</td>\n",
       "      <td>1976</td>\n",
       "      <td>1</td>\n",
       "    </tr>\n",
       "    <tr>\n",
       "      <th>top</th>\n",
       "      <td>35607902</td>\n",
       "      <td>Home away from home</td>\n",
       "      <td>7431680152</td>\n",
       "      <td>unconfirmed</td>\n",
       "      <td>Michael</td>\n",
       "      <td>Manhattan</td>\n",
       "      <td>Bedford-Stuyvesant</td>\n",
       "      <td>40.76411</td>\n",
       "      <td>-73.99371</td>\n",
       "      <td>United States</td>\n",
       "      <td>...</td>\n",
       "      <td>$41</td>\n",
       "      <td>1</td>\n",
       "      <td>0</td>\n",
       "      <td>6/23/2019</td>\n",
       "      <td>0.03</td>\n",
       "      <td>5</td>\n",
       "      <td>1</td>\n",
       "      <td>0</td>\n",
       "      <td>#NAME?</td>\n",
       "      <td>41662/AL</td>\n",
       "    </tr>\n",
       "    <tr>\n",
       "      <th>freq</th>\n",
       "      <td>2</td>\n",
       "      <td>33</td>\n",
       "      <td>2</td>\n",
       "      <td>51200</td>\n",
       "      <td>881</td>\n",
       "      <td>43792</td>\n",
       "      <td>7937</td>\n",
       "      <td>36</td>\n",
       "      <td>44</td>\n",
       "      <td>102067</td>\n",
       "      <td>...</td>\n",
       "      <td>526</td>\n",
       "      <td>25421</td>\n",
       "      <td>15734</td>\n",
       "      <td>2443</td>\n",
       "      <td>1666</td>\n",
       "      <td>23369</td>\n",
       "      <td>63429</td>\n",
       "      <td>23544</td>\n",
       "      <td>2712</td>\n",
       "      <td>2</td>\n",
       "    </tr>\n",
       "  </tbody>\n",
       "</table>\n",
       "<p>4 rows × 26 columns</p>\n",
       "</div>"
      ],
      "text/plain": [
       "              id                 NAME     host id host_identity_verified  \\\n",
       "count     102599               102349      102599                 102310   \n",
       "unique    102058                61281      102057                      2   \n",
       "top     35607902  Home away from home  7431680152            unconfirmed   \n",
       "freq           2                   33           2                  51200   \n",
       "\n",
       "       host name neighbourhood group       neighbourhood       lat       long  \\\n",
       "count     102193              102570              102583    102591     102591   \n",
       "unique     13190                   7                 224     21991      17774   \n",
       "top      Michael           Manhattan  Bedford-Stuyvesant  40.76411  -73.99371   \n",
       "freq         881               43792                7937        36         44   \n",
       "\n",
       "              country  ... service fee minimum nights number of reviews  \\\n",
       "count          102067  ...      102326         102190            102416   \n",
       "unique              1  ...         231            153               476   \n",
       "top     United States  ...        $41               1                 0   \n",
       "freq           102067  ...         526          25421             15734   \n",
       "\n",
       "       last review reviews per month review rate number  \\\n",
       "count        86706             86720             102273   \n",
       "unique        2477              1016                  5   \n",
       "top      6/23/2019              0.03                  5   \n",
       "freq          2443              1666              23369   \n",
       "\n",
       "       calculated host listings count availability 365 house_rules   license  \n",
       "count                          102280           102151       50468         2  \n",
       "unique                             78              438        1976         1  \n",
       "top                                 1                0      #NAME?  41662/AL  \n",
       "freq                            63429            23544        2712         2  \n",
       "\n",
       "[4 rows x 26 columns]"
      ]
     },
     "execution_count": 81,
     "metadata": {},
     "output_type": "execute_result"
    }
   ],
   "source": [
    "df.describe()"
   ]
  }
 ],
 "metadata": {
  "kernelspec": {
   "display_name": "base",
   "language": "python",
   "name": "python3"
  },
  "language_info": {
   "codemirror_mode": {
    "name": "ipython",
    "version": 3
   },
   "file_extension": ".py",
   "mimetype": "text/x-python",
   "name": "python",
   "nbconvert_exporter": "python",
   "pygments_lexer": "ipython3",
   "version": "3.10.12"
  }
 },
 "nbformat": 4,
 "nbformat_minor": 2
}
